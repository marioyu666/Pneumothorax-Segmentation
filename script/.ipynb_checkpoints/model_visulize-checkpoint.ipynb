{
 "cells": [
  {
   "cell_type": "markdown",
   "metadata": {},
   "source": [
    "## 模型预测分析、可视化"
   ]
  },
  {
   "cell_type": "code",
   "execution_count": null,
   "metadata": {},
   "outputs": [],
   "source": [
    "import sys\n",
    "sys.path.append('../')\n",
    "\n",
    "import numpy as np\n",
    "import pandas as pd\n",
    "import math\n",
    "from matplotlib import pyplot as plt\n",
    "from tqdm import tqdm, tqdm_notebook\n",
    "import pickle\n",
    "import os\n",
    "import logging\n",
    "import time\n",
    "import gc\n",
    "from IPython.core.debugger import set_trace\n",
    "\n",
    "import torch\n",
    "import torch.nn as nn\n",
    "import torch.nn.functional as F\n",
    "\n",
    "from utils.utils import save_checkpoint, load_checkpoint, set_logger\n",
    "from utils.gpu_utils import set_n_get_device\n",
    "\n",
    "#from model.deeplab_model.deeplab import DeepLab, predict_proba\n",
    "from model.model_unet import UNetResNet34, predict_proba\n",
    "from dataset.dataset_unet import prepare_trainset\n",
    "\n",
    "def sigmoid(x):\n",
    "    return 1 / (1 + np.exp(-x))\n",
    "\n",
    "def inverse_sigmoid(x):\n",
    "    return np.log(x / (1-x))\n",
    "\n",
    "%matplotlib inline"
   ]
  },
  {
   "cell_type": "code",
   "execution_count": null,
   "metadata": {
    "scrolled": true
   },
   "outputs": [],
   "source": [
    "######### Config the training process #########\n",
    "MODEL = 'UNetResNet34' #'resnet'\n",
    "print('====MODEL ACHITECTURE: %s===='%MODEL)\n",
    "\n",
    "device = set_n_get_device(\"0\", data_device_id=\"cuda:0\")\n",
    "multi_gpu = None #[0,1] #None\n",
    "\n",
    "SEED = 2019\n",
    "debug = False\n",
    "IMG_SIZE = 512\n",
    "BATCH_SIZE = 8#32\n",
    "NUM_WORKERS = 24\n",
    "torch.cuda.manual_seed_all(SEED)"
   ]
  },
  {
   "cell_type": "code",
   "execution_count": null,
   "metadata": {},
   "outputs": [],
   "source": [
    "train_dl, val_dl = prepare_trainset(BATCH_SIZE, NUM_WORKERS, SEED, IMG_SIZE, debug)"
   ]
  },
  {
   "cell_type": "code",
   "execution_count": null,
   "metadata": {},
   "outputs": [],
   "source": [
    "# y should be makeup\n",
    "y_valid = []\n",
    "for i, (image, masks) in enumerate(val_dl):\n",
    "    #if i==10:\n",
    "    #    break\n",
    "    truth = masks.to(device=device, dtype=torch.float)\n",
    "    y_valid.append(truth.cpu().numpy())\n",
    "y_valid = np.concatenate(y_valid, axis=0)\n",
    "y_valid.shape"
   ]
  },
  {
   "cell_type": "code",
   "execution_count": null,
   "metadata": {},
   "outputs": [],
   "source": [
    "# net = DeepLab(num_classes=2,\n",
    "#               backbone=MODEL,#resnet34, resnet101\n",
    "#               output_stride=16,#default 16, 8\n",
    "#               sync_bn=None,\n",
    "#               freeze_bn=False,\n",
    "#               debug=False\n",
    "#              ).cuda(device=device)\n",
    "\n",
    "net = UNetResNet34(debug=False).cuda(device=device)\n",
    "\n",
    "#checkpoint_path = '../checkpoint/deeplabv3plus_resnet_1280_v2_seed2345/best.pth.tar'\n",
    "checkpoint_path = '../checkpoint/UNetResNet34_512_v1_seed2019/best.pth.tar'\n",
    "\n",
    "net, _ = load_checkpoint(checkpoint_path, net)\n",
    "\n",
    "if multi_gpu is not None:\n",
    "    net = nn.DataParallel(net, device_ids=multi_gpu)"
   ]
  },
  {
   "cell_type": "code",
   "execution_count": null,
   "metadata": {},
   "outputs": [],
   "source": [
    "%%time\n",
    "preds_valid = predict_proba(net, val_dl, device, multi_gpu=multi_gpu, mode='valid', tta=True)"
   ]
  },
  {
   "cell_type": "code",
   "execution_count": null,
   "metadata": {},
   "outputs": [],
   "source": [
    "y_valid.shape, preds_valid.shape"
   ]
  },
  {
   "cell_type": "code",
   "execution_count": null,
   "metadata": {},
   "outputs": [],
   "source": [
    "# ## search for best thresholds\n",
    "# def calculate_dice(logit, truth, EMPTY_THRESHOLD=400, MASK_THRESHOLD=0.22):\n",
    "#     IMG_SIZE = logit.shape[-1] #256\n",
    "#     logit = sigmoid(logit)#.reshape(n, -1)\n",
    "#     pred = (logit>MASK_THRESHOLD).astype(np.int)\n",
    "#     pred_clf = (pred.reshape(pred.shape[0], -1).sum(axis=1)<EMPTY_THRESHOLD).astype(np.int)\n",
    "#     pred[pred_clf.reshape(-1,)==1, ] = 0\n",
    "#     return dice_overall(pred, truth)\n",
    "\n",
    "# def dice_overall(pred_mask, truth_mask, eps=1e-8):\n",
    "#     n = pred_mask.shape[0]\n",
    "#     pred_mask = pred_mask.reshape(n, -1)\n",
    "#     truth_mask = truth_mask.reshape(n, -1)\n",
    "#     intersect = (pred_mask * truth_mask).sum(axis=1).astype(np.float)\n",
    "#     union = (pred_mask + truth_mask).sum(axis=1).astype(np.float)\n",
    "#     return ((2.0*intersect + eps) / (union+eps)).mean()"
   ]
  },
  {
   "cell_type": "code",
   "execution_count": null,
   "metadata": {
    "scrolled": true
   },
   "outputs": [],
   "source": [
    "# EMPTY_THRESHOLD_candidate = np.arange(1400, 1520, 20)#for 512\n",
    "# #np.arange(350, 450, 10) #for 256\n",
    "# #np.arange(6000, 7000, 100)#for 1024\n",
    "# #np.arange(2900, 4200, 100)#for 768\n",
    "# MASK_THRESHOLD_candidate = np.arange(0.18, 0.23, 0.01)#np.arange(0.19, 0.27, 0.01)\n",
    "# M, N = len(EMPTY_THRESHOLD_candidate), len(MASK_THRESHOLD_candidate)\n",
    "# best_threshold = None\n",
    "# best_score = 0\n",
    "\n",
    "# for i in tqdm_notebook(range(M)):\n",
    "#     EMPTY_THRESHOLD = EMPTY_THRESHOLD_candidate[i]\n",
    "#     for j in range(N):\n",
    "#         MASK_THRESHOLD = MASK_THRESHOLD_candidate[j]\n",
    "#         dice_score = calculate_dice(preds_valid, y_valid.squeeze(1), EMPTY_THRESHOLD, MASK_THRESHOLD)\n",
    "#         print('CLF_EMPTY_THRESHOLD: %f, MASK_THRESHOLD: %f, dice_score: %f'%(EMPTY_THRESHOLD, MASK_THRESHOLD, dice_score))\n",
    "#         if dice_score>best_score:\n",
    "#             best_threshold = [EMPTY_THRESHOLD, MASK_THRESHOLD]\n",
    "#             best_score = dice_score"
   ]
  },
  {
   "cell_type": "code",
   "execution_count": null,
   "metadata": {},
   "outputs": [],
   "source": [
    "#EMPTY_THRESHOLD, MASK_THRESHOLD = best_threshold\n",
    "EMPTY_THRESHOLD, MASK_THRESHOLD, best_score = 400, 0.21, -1\n",
    "EMPTY_THRESHOLD, MASK_THRESHOLD, best_score"
   ]
  },
  {
   "cell_type": "code",
   "execution_count": null,
   "metadata": {},
   "outputs": [],
   "source": [
    "def predict_mask(logit, EMPTY_THRESHOLD, MASK_THRESHOLD):\n",
    "    \"\"\"Transform each prediction into mask.\n",
    "    input shape: (256, 256)\n",
    "    \"\"\"\n",
    "    IMG_SIZE = logit.shape[-1] #256\n",
    "    logit = sigmoid(logit)#.reshape(n, -1)\n",
    "    pred = (logit>MASK_THRESHOLD).astype(np.int)\n",
    "    if pred.sum() < EMPTY_THRESHOLD:\n",
    "        return np.zeros(pred.shape).astype(np.int)\n",
    "    else:\n",
    "        return pred\n",
    "    return pred"
   ]
  },
  {
   "cell_type": "code",
   "execution_count": null,
   "metadata": {
    "scrolled": false
   },
   "outputs": [],
   "source": [
    "## visualize predicted masks\n",
    "start = 5\n",
    "rows = 10\n",
    "\n",
    "cnt = 0\n",
    "for idx, (img, mask) in enumerate(val_dl):\n",
    "    if idx<start:\n",
    "        continue\n",
    "    for j in range(BATCH_SIZE):#BATCH_SIZE=8\n",
    "        not_empty = mask[j][0].sum()>0\n",
    "        if not_empty:\n",
    "            cnt+=1\n",
    "            pred_mask = predict_mask(preds_valid[idx*BATCH_SIZE+j], EMPTY_THRESHOLD, MASK_THRESHOLD)#EMPTY_THRESHOLD=0\n",
    "            #if pred_mask.sum()==0:\n",
    "            #    continue\n",
    "            fig, (ax0, ax1, ax2) = plt.subplots(ncols=3, figsize=(12, 4))\n",
    "            ax0.imshow(img[j][0].numpy(), plt.cm.bone)\n",
    "            ax1.imshow(mask[j][0], vmin=0, vmax=1, cmap=\"Reds\")\n",
    "            ax2.imshow(pred_mask, vmin=0, vmax=1, cmap=\"Blues\")\n",
    "            if not_empty.item():\n",
    "                ax1.set_title('Targets(Has Mask)')\n",
    "            else:\n",
    "                ax1.set_title('Targets(Empty)')\n",
    "            ax2.set_title('Predictions')\n",
    "        if cnt>rows:\n",
    "            break\n",
    "    if cnt>rows:\n",
    "            break"
   ]
  },
  {
   "cell_type": "code",
   "execution_count": null,
   "metadata": {},
   "outputs": [],
   "source": [
    "# ## visualize predicted masks\n",
    "# rows = 20\n",
    "\n",
    "# cnt = 0\n",
    "# for idx, (img, mask) in enumerate(val_dl):\n",
    "#     for j in range(BATCH_SIZE):#BATCH_SIZE=8\n",
    "#         is_empty = mask[j][0].sum()==0\n",
    "#         if is_empty:\n",
    "#             cnt+=1\n",
    "#             pred_mask = predict_mask(preds_valid[idx*BATCH_SIZE+j], EMPTY_THRESHOLD, MASK_THRESHOLD)\n",
    "#             #if pred_mask.sum()==0:\n",
    "#             #    continue\n",
    "#             fig, (ax0, ax1, ax2) = plt.subplots(ncols=3, figsize=(12, 4))\n",
    "#             ax0.imshow(img[j][0].numpy(), plt.cm.bone)\n",
    "#             ax1.imshow(mask[j][0], vmin=0, vmax=1, cmap=\"Reds\")\n",
    "#             ax2.imshow(pred_mask, vmin=0, vmax=1, cmap=\"Blues\")\n",
    "#             if is_empty.item():\n",
    "#                 ax1.set_title('Targets(Empty Mask)')\n",
    "#             else:\n",
    "#                 ax1.set_title('Targets(Has Mask)')\n",
    "#             ax2.set_title('Predictions')\n",
    "#         if cnt>rows:\n",
    "#             break\n",
    "#     if cnt>rows:\n",
    "#             break"
   ]
  },
  {
   "cell_type": "code",
   "execution_count": null,
   "metadata": {},
   "outputs": [],
   "source": [
    "# s = (sigmoid(preds_valid)>MASK_THRESHOLD).reshape(1064, -1).sum(axis=1)\n",
    "# (s>1420).mean(), (s>0).mean()"
   ]
  },
  {
   "cell_type": "markdown",
   "metadata": {},
   "source": [
    "## 测试集"
   ]
  },
  {
   "cell_type": "code",
   "execution_count": null,
   "metadata": {},
   "outputs": [],
   "source": [
    "import glob\n",
    "from dataset.dataset_unet import prepare_testset"
   ]
  },
  {
   "cell_type": "code",
   "execution_count": null,
   "metadata": {},
   "outputs": [],
   "source": [
    "test_fnames = [f.split('/')[-1][:-4] for f in glob.glob('../data/processed/test/*')]\n",
    "len(test_fnames), test_fnames[0]"
   ]
  },
  {
   "cell_type": "code",
   "execution_count": null,
   "metadata": {},
   "outputs": [],
   "source": [
    "test_dl = prepare_testset(BATCH_SIZE, NUM_WORKERS, IMG_SIZE)"
   ]
  },
  {
   "cell_type": "code",
   "execution_count": null,
   "metadata": {},
   "outputs": [],
   "source": [
    "%%time\n",
    "preds_test = predict_proba(net, test_dl, device, multi_gpu=multi_gpu, mode='test', tta=True)"
   ]
  },
  {
   "cell_type": "code",
   "execution_count": null,
   "metadata": {},
   "outputs": [],
   "source": [
    "preds_test.shape"
   ]
  },
  {
   "cell_type": "code",
   "execution_count": null,
   "metadata": {},
   "outputs": [],
   "source": [
    "## visualize predicted masks\n",
    "start = 0\n",
    "total = 19\n",
    "\n",
    "fig=plt.figure(figsize=(15, 20))\n",
    "cnt = 0\n",
    "for idx, img in enumerate(test_dl):\n",
    "    if idx<start:\n",
    "        continue\n",
    "    for j in range(BATCH_SIZE):#BATCH_SIZE=8\n",
    "        cnt+=1\n",
    "        pred_mask = predict_mask(preds_test[idx*BATCH_SIZE+j], EMPTY_THRESHOLD, MASK_THRESHOLD)\n",
    "        #if pred_mask.float().mean()==0:\n",
    "        #    continue\n",
    "        ax = fig.add_subplot(5, 4, cnt)\n",
    "        plt.imshow(img[j][0].numpy(), plt.cm.bone)\n",
    "        plt.imshow(pred_mask, alpha=0.3, cmap=\"Reds\")\n",
    "        if pred_mask.sum()>0:\n",
    "            plt.title('Predict Mask')\n",
    "        else:\n",
    "            plt.title('Predict Empty')\n",
    "        if cnt>total:\n",
    "            break\n",
    "    if cnt>total:\n",
    "            break"
   ]
  },
  {
   "cell_type": "code",
   "execution_count": null,
   "metadata": {},
   "outputs": [],
   "source": []
  },
  {
   "cell_type": "code",
   "execution_count": null,
   "metadata": {},
   "outputs": [],
   "source": []
  }
 ],
 "metadata": {
  "kernelspec": {
   "display_name": "Python 3",
   "language": "python",
   "name": "python3"
  },
  "language_info": {
   "codemirror_mode": {
    "name": "ipython",
    "version": 3
   },
   "file_extension": ".py",
   "mimetype": "text/x-python",
   "name": "python",
   "nbconvert_exporter": "python",
   "pygments_lexer": "ipython3",
   "version": "3.6.5"
  }
 },
 "nbformat": 4,
 "nbformat_minor": 2
}
